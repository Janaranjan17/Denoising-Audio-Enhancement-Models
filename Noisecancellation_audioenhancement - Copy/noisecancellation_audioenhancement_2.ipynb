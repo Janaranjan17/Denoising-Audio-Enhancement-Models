{
  "nbformat": 4,
  "nbformat_minor": 0,
  "metadata": {
    "colab": {
      "provenance": []
    },
    "kernelspec": {
      "name": "python3",
      "display_name": "Python 3"
    },
    "language_info": {
      "name": "python"
    }
  },
  "cells": [
    {
      "cell_type": "code",
      "execution_count": 1,
      "metadata": {
        "id": "oXCpNpwuV-4Y"
      },
      "outputs": [],
      "source": [
        "import torch"
      ]
    },
    {
      "cell_type": "code",
      "source": [
        "import torchaudio"
      ],
      "metadata": {
        "id": "jS4wVF8xWBGY"
      },
      "execution_count": 2,
      "outputs": []
    },
    {
      "cell_type": "code",
      "source": [
        "import numpy as np"
      ],
      "metadata": {
        "id": "atgtA0qrWY2h"
      },
      "execution_count": 3,
      "outputs": []
    },
    {
      "cell_type": "code",
      "source": [
        "from scipy.signal import wiener"
      ],
      "metadata": {
        "id": "WY4WBczpWbrP"
      },
      "execution_count": 4,
      "outputs": []
    },
    {
      "cell_type": "code",
      "source": [
        "# Load noisy audio data\n",
        "noisy_audio_path = '/content/output_audio.wav'\n",
        "noisy_audio, sr = torchaudio.load(noisy_audio_path)"
      ],
      "metadata": {
        "id": "O4Sa3VvSWeLV"
      },
      "execution_count": 6,
      "outputs": []
    },
    {
      "cell_type": "code",
      "source": [
        "def spectral_subtraction(audio, alpha=1):\n",
        "    stft = torch.stft(audio, n_fft=2048, hop_length=512, window=torch.hann_window(2048), return_complex=True)\n",
        "    magnitude = torch.abs(stft)\n",
        "    magnitude_sq = magnitude ** 2\n",
        "    noisy_phase = torch.angle(stft)\n",
        "\n",
        "    # Estimate noise magnitude\n",
        "    noise_mag = torch.mean(magnitude_sq, dim=1)\n",
        "    noise_mag = noise_mag.unsqueeze(1)\n",
        "\n",
        "    # Spectral subtraction\n",
        "    estimated_mag = torch.maximum(magnitude_sq - alpha * noise_mag, torch.tensor(0.0))\n",
        "    estimated_mag = torch.sqrt(estimated_mag)\n",
        "\n",
        "    # Inverse STFT\n",
        "    estimated_audio = torch.istft(estimated_mag * torch.exp(1j * noisy_phase),\n",
        "                                  n_fft=2048, hop_length=512, window=torch.hann_window(2048))\n",
        "    return estimated_audio\n"
      ],
      "metadata": {
        "id": "Y6aN1ekWWirq"
      },
      "execution_count": 9,
      "outputs": []
    },
    {
      "cell_type": "code",
      "source": [
        "# Denoise the audio using spectral subtraction\n",
        "denoised_audio = spectral_subtraction(noisy_audio)"
      ],
      "metadata": {
        "id": "nKQbgmuxbebH"
      },
      "execution_count": 10,
      "outputs": []
    },
    {
      "cell_type": "code",
      "source": [
        "# Perform audio enhancement using the Wiener filter\n",
        "def wiener_filter(audio):\n",
        "    audio_numpy = audio.numpy()\n",
        "    denoised_audio = wiener(audio_numpy)\n",
        "    return torch.from_numpy(denoised_audio)\n"
      ],
      "metadata": {
        "id": "07qRWZJBbhKP"
      },
      "execution_count": 11,
      "outputs": []
    },
    {
      "cell_type": "code",
      "source": [
        "# Enhance the denoised audio\n",
        "enhanced_audio = wiener_filter(denoised_audio)"
      ],
      "metadata": {
        "colab": {
          "base_uri": "https://localhost:8080/"
        },
        "id": "3no4DFL_bwLn",
        "outputId": "03d3eb96-13e0-4361-9549-3c6a457e4189"
      },
      "execution_count": 12,
      "outputs": [
        {
          "output_type": "stream",
          "name": "stderr",
          "text": [
            "/usr/local/lib/python3.10/dist-packages/scipy/signal/_signaltools.py:1657: RuntimeWarning: divide by zero encountered in divide\n",
            "  res *= (1 - noise / lVar)\n",
            "/usr/local/lib/python3.10/dist-packages/scipy/signal/_signaltools.py:1657: RuntimeWarning: invalid value encountered in multiply\n",
            "  res *= (1 - noise / lVar)\n"
          ]
        }
      ]
    },
    {
      "cell_type": "code",
      "source": [
        "# Save the enhanced audio\n",
        "torchaudio.save('enhanced_audio.wav', enhanced_audio, sr)"
      ],
      "metadata": {
        "id": "wYQjjLJmbzfN"
      },
      "execution_count": 13,
      "outputs": []
    },
    {
      "cell_type": "code",
      "source": [],
      "metadata": {
        "id": "ueTBhqiscOp4"
      },
      "execution_count": null,
      "outputs": []
    }
  ]
}