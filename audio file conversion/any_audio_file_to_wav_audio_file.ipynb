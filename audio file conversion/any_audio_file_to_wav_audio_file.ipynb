{
  "nbformat": 4,
  "nbformat_minor": 0,
  "metadata": {
    "colab": {
      "provenance": []
    },
    "kernelspec": {
      "name": "python3",
      "display_name": "Python 3"
    },
    "language_info": {
      "name": "python"
    }
  },
  "cells": [
    {
      "cell_type": "code",
      "source": [
        "pip install pydub\n"
      ],
      "metadata": {
        "colab": {
          "base_uri": "https://localhost:8080/"
        },
        "id": "Rak14iAQRUn5",
        "outputId": "8926d33c-1dfc-4106-d5d7-43736909d3eb"
      },
      "execution_count": 2,
      "outputs": [
        {
          "output_type": "stream",
          "name": "stdout",
          "text": [
            "Collecting pydub\n",
            "  Downloading pydub-0.25.1-py2.py3-none-any.whl (32 kB)\n",
            "Installing collected packages: pydub\n",
            "Successfully installed pydub-0.25.1\n"
          ]
        }
      ]
    },
    {
      "cell_type": "code",
      "execution_count": 3,
      "metadata": {
        "id": "xagJq_9QQ3FV"
      },
      "outputs": [],
      "source": [
        "from pydub import AudioSegment\n",
        "import os"
      ]
    },
    {
      "cell_type": "code",
      "source": [
        "def convert_to_wav(input_file, output_file):\n",
        "    # Load audio file\n",
        "    audio = AudioSegment.from_file(input_file)\n",
        "\n",
        "    # Check if the input file is already in WAV format\n",
        "    if audio.frame_rate != 44100 or audio.sample_width != 2 or audio.channels != 2:\n",
        "        # Convert to WAV format\n",
        "        audio = audio.set_frame_rate(44100).set_sample_width(2).set_channels(2)\n",
        "\n",
        "    # Export the audio to WAV format\n",
        "    audio.export(output_file, format=\"wav\")"
      ],
      "metadata": {
        "id": "SWrJfD_xRKxS"
      },
      "execution_count": 4,
      "outputs": []
    },
    {
      "cell_type": "code",
      "source": [
        "# Example usage:\n",
        "input_file = \"/content/Street food of Chennai - Idly and Kari kuzhambu.mp3\"  # Input audio file path\n",
        "output_file = \"output_audio.wav\"  # Output WAV file path"
      ],
      "metadata": {
        "id": "xhjQqBKURbve"
      },
      "execution_count": 5,
      "outputs": []
    },
    {
      "cell_type": "code",
      "source": [
        "convert_to_wav(input_file, output_file)\n",
        "print(\"Conversion completed successfully.\")"
      ],
      "metadata": {
        "colab": {
          "base_uri": "https://localhost:8080/"
        },
        "id": "wNEIZAfLSOaY",
        "outputId": "5a1bc4cf-6961-41f4-c1c1-63035b3a4079"
      },
      "execution_count": 6,
      "outputs": [
        {
          "output_type": "stream",
          "name": "stdout",
          "text": [
            "Conversion completed successfully.\n"
          ]
        }
      ]
    },
    {
      "cell_type": "code",
      "source": [],
      "metadata": {
        "id": "DFozCFntSQ92"
      },
      "execution_count": null,
      "outputs": []
    }
  ]
}